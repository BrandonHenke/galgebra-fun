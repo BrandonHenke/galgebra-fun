{
 "cells": [
  {
   "cell_type": "code",
   "execution_count": 2,
   "metadata": {},
   "outputs": [],
   "source": [
    "import numpy as np\n",
    "import matplotlib.pyplot as plt\n",
    "import mpl_toolkits.clifford as mplcf\n",
    "import clifford as ga"
   ]
  },
  {
   "cell_type": "code",
   "execution_count": 14,
   "metadata": {},
   "outputs": [],
   "source": [
    "D, D_blades = ga.Cl(sig=[-1,1,1,1],firstIdx=0, names='d')\n",
    "P, P_blades = ga.Cl(3,names='p')\n",
    "locals().update(D_blades)\n",
    "locals().update(P_blades)\n",
    "bm = ga.BladeMap([\n",
    "\t\t\t(d01,p1),\n",
    "\t\t\t(d02,p2),\n",
    "\t\t\t(d03,p3),\n",
    "\t\t\t(d12,p12),\n",
    "\t\t\t(d23,p23),\n",
    "\t\t\t(d13,p13),\n",
    "\t\t\t(d0123, p123)\n",
    "\t\t\t])"
   ]
  },
  {
   "cell_type": "code",
   "execution_count": 16,
   "metadata": {},
   "outputs": [
    {
     "name": "stdout",
     "output_type": "stream",
     "text": [
      "1.0\n",
      "(0.19846^d01) + (1.45439^d02) - (0.33969^d03) + (1.3804^d12) - (0.61398^d13) + (1.29803^d23)\n"
     ]
    }
   ],
   "source": [
    "v = D.randomV(); v = v * np.sqrt(float(1/v**2))\n",
    "F = D.randomMV()(2)\n",
    "print(v*v)\n",
    "print(F)"
   ]
  },
  {
   "cell_type": "code",
   "execution_count": 13,
   "metadata": {},
   "outputs": [
    {
     "name": "stdout",
     "output_type": "stream",
     "text": [
      "1\n"
     ]
    }
   ],
   "source": [
    "print(d1**2)"
   ]
  },
  {
   "cell_type": "code",
   "execution_count": null,
   "metadata": {},
   "outputs": [],
   "source": []
  }
 ],
 "metadata": {
  "kernelspec": {
   "display_name": "galgebra-fun-X2eimB-o-py3.10",
   "language": "python",
   "name": "python3"
  },
  "language_info": {
   "codemirror_mode": {
    "name": "ipython",
    "version": 3
   },
   "file_extension": ".py",
   "mimetype": "text/x-python",
   "name": "python",
   "nbconvert_exporter": "python",
   "pygments_lexer": "ipython3",
   "version": "3.10.10"
  },
  "orig_nbformat": 4
 },
 "nbformat": 4,
 "nbformat_minor": 2
}
